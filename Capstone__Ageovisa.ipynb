{
  "nbformat": 4,
  "nbformat_minor": 0,
  "metadata": {
    "colab": {
      "provenance": [],
      "collapsed_sections": [],
      "authorship_tag": "ABX9TyN/pQg8AWtwRGVGObEkZvlx",
      "include_colab_link": true
    },
    "kernelspec": {
      "name": "python3",
      "display_name": "Python 3"
    },
    "language_info": {
      "name": "python"
    }
  },
  "cells": [
    {
      "cell_type": "markdown",
      "metadata": {
        "id": "view-in-github",
        "colab_type": "text"
      },
      "source": [
        "<a href=\"https://colab.research.google.com/github/DASalerno-AU/group-4-metrobus/blob/main/Capstone__Ageovisa.ipynb\" target=\"_parent\"><img src=\"https://colab.research.google.com/assets/colab-badge.svg\" alt=\"Open In Colab\"/></a>"
      ]
    },
    {
      "cell_type": "code",
      "execution_count": 1,
      "metadata": {
        "id": "whd9BNsWUOkM"
      },
      "outputs": [],
      "source": [
        "import pandas as pd\n",
        "import numpy as np\n",
        "import matplotlib.pyplot as plt\n",
        "import itertools\n",
        "from sklearn.preprocessing import OrdinalEncoder\n",
        "from sklearn.model_selection import train_test_split\n",
        "from sklearn.model_selection import GridSearchCV\n",
        "from sklearn.ensemble import GradientBoostingClassifier\n",
        "from sklearn import metrics"
      ]
    },
    {
      "cell_type": "markdown",
      "source": [
        "#Data preparation"
      ],
      "metadata": {
        "id": "nFQ64zNqX3Yv"
      }
    },
    {
      "cell_type": "code",
      "source": [
        "df1 = pd.read_excel(\"/content/Ageovisadata.xlsx\") ##find out how import data\n",
        "colNames = [\"userid\",\n",
        "            \"langid\",\n",
        "            \"correct\",\n",
        "            \"sessions\",\n",
        "            \"percept\",\n",
        "            \"input\",\n",
        "            \"process\"]\n",
        "df2 = df1[df1[\"Suggestives\"].isna() != True]\n",
        "df3 = df2.dropna()\n",
        "df3"
      ],
      "metadata": {
        "id": "GYIBByhyUaSt",
        "colab": {
          "base_uri": "https://localhost:8080/",
          "height": 520
        },
        "outputId": "4e3395ef-c4f6-40bb-db4e-d7ce87e22209"
      },
      "execution_count": 7,
      "outputs": [
        {
          "output_type": "execute_result",
          "data": {
            "text/plain": [
              "    userid langid  correct  sessions  percept  input  process  understand  \\\n",
              "0        5     EN        2         6        1      1        1           2   \n",
              "1        5     ES       22         2        2      2        1           1   \n",
              "2        0     ES       18        22        1      1        1           1   \n",
              "3        6     DE        9         5        2      1        1           1   \n",
              "4        6     FR       18        28        2      2        2           2   \n",
              "5        9     EN        0        17        1      1        1           2   \n",
              "6        9     EN       16        14        2      2        2           1   \n",
              "7        8     EN       14        19        2      1        1           2   \n",
              "8        9     ES        9         5        2      1        2           2   \n",
              "9        9     FR       11         6        2      1        2           2   \n",
              "10       6     EN       22         4        1      1        1           1   \n",
              "11       7     FR        2        11        1      1        1           1   \n",
              "12       2     DE       11         1        1      2        1           2   \n",
              "13       4     DE        2        11        1      2        2           2   \n",
              "14       2     De        6        18        2      2        2           2   \n",
              "\n",
              "    Suggestives  \n",
              "0             3  \n",
              "1             2  \n",
              "2             2  \n",
              "3             2  \n",
              "4             3  \n",
              "5             2  \n",
              "6             1  \n",
              "7             3  \n",
              "8             3  \n",
              "9             2  \n",
              "10            2  \n",
              "11            1  \n",
              "12            1  \n",
              "13            3  \n",
              "14            2  "
            ],
            "text/html": [
              "\n",
              "  <div id=\"df-51147756-6d7e-4f34-b457-c56ce6b67504\">\n",
              "    <div class=\"colab-df-container\">\n",
              "      <div>\n",
              "<style scoped>\n",
              "    .dataframe tbody tr th:only-of-type {\n",
              "        vertical-align: middle;\n",
              "    }\n",
              "\n",
              "    .dataframe tbody tr th {\n",
              "        vertical-align: top;\n",
              "    }\n",
              "\n",
              "    .dataframe thead th {\n",
              "        text-align: right;\n",
              "    }\n",
              "</style>\n",
              "<table border=\"1\" class=\"dataframe\">\n",
              "  <thead>\n",
              "    <tr style=\"text-align: right;\">\n",
              "      <th></th>\n",
              "      <th>userid</th>\n",
              "      <th>langid</th>\n",
              "      <th>correct</th>\n",
              "      <th>sessions</th>\n",
              "      <th>percept</th>\n",
              "      <th>input</th>\n",
              "      <th>process</th>\n",
              "      <th>understand</th>\n",
              "      <th>Suggestives</th>\n",
              "    </tr>\n",
              "  </thead>\n",
              "  <tbody>\n",
              "    <tr>\n",
              "      <th>0</th>\n",
              "      <td>5</td>\n",
              "      <td>EN</td>\n",
              "      <td>2</td>\n",
              "      <td>6</td>\n",
              "      <td>1</td>\n",
              "      <td>1</td>\n",
              "      <td>1</td>\n",
              "      <td>2</td>\n",
              "      <td>3</td>\n",
              "    </tr>\n",
              "    <tr>\n",
              "      <th>1</th>\n",
              "      <td>5</td>\n",
              "      <td>ES</td>\n",
              "      <td>22</td>\n",
              "      <td>2</td>\n",
              "      <td>2</td>\n",
              "      <td>2</td>\n",
              "      <td>1</td>\n",
              "      <td>1</td>\n",
              "      <td>2</td>\n",
              "    </tr>\n",
              "    <tr>\n",
              "      <th>2</th>\n",
              "      <td>0</td>\n",
              "      <td>ES</td>\n",
              "      <td>18</td>\n",
              "      <td>22</td>\n",
              "      <td>1</td>\n",
              "      <td>1</td>\n",
              "      <td>1</td>\n",
              "      <td>1</td>\n",
              "      <td>2</td>\n",
              "    </tr>\n",
              "    <tr>\n",
              "      <th>3</th>\n",
              "      <td>6</td>\n",
              "      <td>DE</td>\n",
              "      <td>9</td>\n",
              "      <td>5</td>\n",
              "      <td>2</td>\n",
              "      <td>1</td>\n",
              "      <td>1</td>\n",
              "      <td>1</td>\n",
              "      <td>2</td>\n",
              "    </tr>\n",
              "    <tr>\n",
              "      <th>4</th>\n",
              "      <td>6</td>\n",
              "      <td>FR</td>\n",
              "      <td>18</td>\n",
              "      <td>28</td>\n",
              "      <td>2</td>\n",
              "      <td>2</td>\n",
              "      <td>2</td>\n",
              "      <td>2</td>\n",
              "      <td>3</td>\n",
              "    </tr>\n",
              "    <tr>\n",
              "      <th>5</th>\n",
              "      <td>9</td>\n",
              "      <td>EN</td>\n",
              "      <td>0</td>\n",
              "      <td>17</td>\n",
              "      <td>1</td>\n",
              "      <td>1</td>\n",
              "      <td>1</td>\n",
              "      <td>2</td>\n",
              "      <td>2</td>\n",
              "    </tr>\n",
              "    <tr>\n",
              "      <th>6</th>\n",
              "      <td>9</td>\n",
              "      <td>EN</td>\n",
              "      <td>16</td>\n",
              "      <td>14</td>\n",
              "      <td>2</td>\n",
              "      <td>2</td>\n",
              "      <td>2</td>\n",
              "      <td>1</td>\n",
              "      <td>1</td>\n",
              "    </tr>\n",
              "    <tr>\n",
              "      <th>7</th>\n",
              "      <td>8</td>\n",
              "      <td>EN</td>\n",
              "      <td>14</td>\n",
              "      <td>19</td>\n",
              "      <td>2</td>\n",
              "      <td>1</td>\n",
              "      <td>1</td>\n",
              "      <td>2</td>\n",
              "      <td>3</td>\n",
              "    </tr>\n",
              "    <tr>\n",
              "      <th>8</th>\n",
              "      <td>9</td>\n",
              "      <td>ES</td>\n",
              "      <td>9</td>\n",
              "      <td>5</td>\n",
              "      <td>2</td>\n",
              "      <td>1</td>\n",
              "      <td>2</td>\n",
              "      <td>2</td>\n",
              "      <td>3</td>\n",
              "    </tr>\n",
              "    <tr>\n",
              "      <th>9</th>\n",
              "      <td>9</td>\n",
              "      <td>FR</td>\n",
              "      <td>11</td>\n",
              "      <td>6</td>\n",
              "      <td>2</td>\n",
              "      <td>1</td>\n",
              "      <td>2</td>\n",
              "      <td>2</td>\n",
              "      <td>2</td>\n",
              "    </tr>\n",
              "    <tr>\n",
              "      <th>10</th>\n",
              "      <td>6</td>\n",
              "      <td>EN</td>\n",
              "      <td>22</td>\n",
              "      <td>4</td>\n",
              "      <td>1</td>\n",
              "      <td>1</td>\n",
              "      <td>1</td>\n",
              "      <td>1</td>\n",
              "      <td>2</td>\n",
              "    </tr>\n",
              "    <tr>\n",
              "      <th>11</th>\n",
              "      <td>7</td>\n",
              "      <td>FR</td>\n",
              "      <td>2</td>\n",
              "      <td>11</td>\n",
              "      <td>1</td>\n",
              "      <td>1</td>\n",
              "      <td>1</td>\n",
              "      <td>1</td>\n",
              "      <td>1</td>\n",
              "    </tr>\n",
              "    <tr>\n",
              "      <th>12</th>\n",
              "      <td>2</td>\n",
              "      <td>DE</td>\n",
              "      <td>11</td>\n",
              "      <td>1</td>\n",
              "      <td>1</td>\n",
              "      <td>2</td>\n",
              "      <td>1</td>\n",
              "      <td>2</td>\n",
              "      <td>1</td>\n",
              "    </tr>\n",
              "    <tr>\n",
              "      <th>13</th>\n",
              "      <td>4</td>\n",
              "      <td>DE</td>\n",
              "      <td>2</td>\n",
              "      <td>11</td>\n",
              "      <td>1</td>\n",
              "      <td>2</td>\n",
              "      <td>2</td>\n",
              "      <td>2</td>\n",
              "      <td>3</td>\n",
              "    </tr>\n",
              "    <tr>\n",
              "      <th>14</th>\n",
              "      <td>2</td>\n",
              "      <td>De</td>\n",
              "      <td>6</td>\n",
              "      <td>18</td>\n",
              "      <td>2</td>\n",
              "      <td>2</td>\n",
              "      <td>2</td>\n",
              "      <td>2</td>\n",
              "      <td>2</td>\n",
              "    </tr>\n",
              "  </tbody>\n",
              "</table>\n",
              "</div>\n",
              "      <button class=\"colab-df-convert\" onclick=\"convertToInteractive('df-51147756-6d7e-4f34-b457-c56ce6b67504')\"\n",
              "              title=\"Convert this dataframe to an interactive table.\"\n",
              "              style=\"display:none;\">\n",
              "        \n",
              "  <svg xmlns=\"http://www.w3.org/2000/svg\" height=\"24px\"viewBox=\"0 0 24 24\"\n",
              "       width=\"24px\">\n",
              "    <path d=\"M0 0h24v24H0V0z\" fill=\"none\"/>\n",
              "    <path d=\"M18.56 5.44l.94 2.06.94-2.06 2.06-.94-2.06-.94-.94-2.06-.94 2.06-2.06.94zm-11 1L8.5 8.5l.94-2.06 2.06-.94-2.06-.94L8.5 2.5l-.94 2.06-2.06.94zm10 10l.94 2.06.94-2.06 2.06-.94-2.06-.94-.94-2.06-.94 2.06-2.06.94z\"/><path d=\"M17.41 7.96l-1.37-1.37c-.4-.4-.92-.59-1.43-.59-.52 0-1.04.2-1.43.59L10.3 9.45l-7.72 7.72c-.78.78-.78 2.05 0 2.83L4 21.41c.39.39.9.59 1.41.59.51 0 1.02-.2 1.41-.59l7.78-7.78 2.81-2.81c.8-.78.8-2.07 0-2.86zM5.41 20L4 18.59l7.72-7.72 1.47 1.35L5.41 20z\"/>\n",
              "  </svg>\n",
              "      </button>\n",
              "      \n",
              "  <style>\n",
              "    .colab-df-container {\n",
              "      display:flex;\n",
              "      flex-wrap:wrap;\n",
              "      gap: 12px;\n",
              "    }\n",
              "\n",
              "    .colab-df-convert {\n",
              "      background-color: #E8F0FE;\n",
              "      border: none;\n",
              "      border-radius: 50%;\n",
              "      cursor: pointer;\n",
              "      display: none;\n",
              "      fill: #1967D2;\n",
              "      height: 32px;\n",
              "      padding: 0 0 0 0;\n",
              "      width: 32px;\n",
              "    }\n",
              "\n",
              "    .colab-df-convert:hover {\n",
              "      background-color: #E2EBFA;\n",
              "      box-shadow: 0px 1px 2px rgba(60, 64, 67, 0.3), 0px 1px 3px 1px rgba(60, 64, 67, 0.15);\n",
              "      fill: #174EA6;\n",
              "    }\n",
              "\n",
              "    [theme=dark] .colab-df-convert {\n",
              "      background-color: #3B4455;\n",
              "      fill: #D2E3FC;\n",
              "    }\n",
              "\n",
              "    [theme=dark] .colab-df-convert:hover {\n",
              "      background-color: #434B5C;\n",
              "      box-shadow: 0px 1px 3px 1px rgba(0, 0, 0, 0.15);\n",
              "      filter: drop-shadow(0px 1px 2px rgba(0, 0, 0, 0.3));\n",
              "      fill: #FFFFFF;\n",
              "    }\n",
              "  </style>\n",
              "\n",
              "      <script>\n",
              "        const buttonEl =\n",
              "          document.querySelector('#df-51147756-6d7e-4f34-b457-c56ce6b67504 button.colab-df-convert');\n",
              "        buttonEl.style.display =\n",
              "          google.colab.kernel.accessAllowed ? 'block' : 'none';\n",
              "\n",
              "        async function convertToInteractive(key) {\n",
              "          const element = document.querySelector('#df-51147756-6d7e-4f34-b457-c56ce6b67504');\n",
              "          const dataTable =\n",
              "            await google.colab.kernel.invokeFunction('convertToInteractive',\n",
              "                                                     [key], {});\n",
              "          if (!dataTable) return;\n",
              "\n",
              "          const docLinkHtml = 'Like what you see? Visit the ' +\n",
              "            '<a target=\"_blank\" href=https://colab.research.google.com/notebooks/data_table.ipynb>data table notebook</a>'\n",
              "            + ' to learn more about interactive tables.';\n",
              "          element.innerHTML = '';\n",
              "          dataTable['output_type'] = 'display_data';\n",
              "          await google.colab.output.renderOutput(dataTable, element);\n",
              "          const docLink = document.createElement('div');\n",
              "          docLink.innerHTML = docLinkHtml;\n",
              "          element.appendChild(docLink);\n",
              "        }\n",
              "      </script>\n",
              "    </div>\n",
              "  </div>\n",
              "  "
            ]
          },
          "metadata": {},
          "execution_count": 7
        }
      ]
    },
    {
      "cell_type": "code",
      "source": [
        "df_string = df3[[\"langid\"]]\n",
        "df_numeric = df3[[\"userid\",\n",
        "            \"correct\",\n",
        "           \"sessions\",\n",
        "            \"percept\",\n",
        "            \"input\",\n",
        "           \"process\"]]"
      ],
      "metadata": {
        "id": "kXTBoeIEVEym"
      },
      "execution_count": 8,
      "outputs": []
    },
    {
      "cell_type": "code",
      "source": [
        "df3[\"Suggestives\"].value_counts()"
      ],
      "metadata": {
        "id": "1Y-ovMqPVYuA",
        "colab": {
          "base_uri": "https://localhost:8080/"
        },
        "outputId": "33600315-7ae1-4870-e17a-ef15ca83fa37"
      },
      "execution_count": 10,
      "outputs": [
        {
          "output_type": "execute_result",
          "data": {
            "text/plain": [
              "2    7\n",
              "3    5\n",
              "1    3\n",
              "Name: Suggestives, dtype: int64"
            ]
          },
          "metadata": {},
          "execution_count": 10
        }
      ]
    },
    {
      "cell_type": "code",
      "source": [
        "oe = OrdinalEncoder()\n",
        "X_str = df_string.to_numpy()\n",
        "Xnew_str = oe.fit_transform(X_str)\n",
        "Xnew_str"
      ],
      "metadata": {
        "id": "zjaBzjkDVvtj",
        "colab": {
          "base_uri": "https://localhost:8080/"
        },
        "outputId": "b886e9b3-177d-4d7c-ca38-112c28c0123b"
      },
      "execution_count": 11,
      "outputs": [
        {
          "output_type": "execute_result",
          "data": {
            "text/plain": [
              "array([[2.],\n",
              "       [3.],\n",
              "       [3.],\n",
              "       [0.],\n",
              "       [4.],\n",
              "       [2.],\n",
              "       [2.],\n",
              "       [2.],\n",
              "       [3.],\n",
              "       [4.],\n",
              "       [2.],\n",
              "       [4.],\n",
              "       [0.],\n",
              "       [0.],\n",
              "       [1.]])"
            ]
          },
          "metadata": {},
          "execution_count": 11
        }
      ]
    },
    {
      "cell_type": "code",
      "source": [
        "X_num = df_numeric.to_numpy()\n",
        "X_tot = np.concatenate([X_num, Xnew_str], axis=1)\n",
        "X_tot"
      ],
      "metadata": {
        "id": "g7GwkoK_V4nt",
        "colab": {
          "base_uri": "https://localhost:8080/"
        },
        "outputId": "7fa5b7f4-fc36-4f35-c292-0cf639733352"
      },
      "execution_count": 12,
      "outputs": [
        {
          "output_type": "execute_result",
          "data": {
            "text/plain": [
              "array([[ 5.,  2.,  6.,  1.,  1.,  1.,  2.],\n",
              "       [ 5., 22.,  2.,  2.,  2.,  1.,  3.],\n",
              "       [ 0., 18., 22.,  1.,  1.,  1.,  3.],\n",
              "       [ 6.,  9.,  5.,  2.,  1.,  1.,  0.],\n",
              "       [ 6., 18., 28.,  2.,  2.,  2.,  4.],\n",
              "       [ 9.,  0., 17.,  1.,  1.,  1.,  2.],\n",
              "       [ 9., 16., 14.,  2.,  2.,  2.,  2.],\n",
              "       [ 8., 14., 19.,  2.,  1.,  1.,  2.],\n",
              "       [ 9.,  9.,  5.,  2.,  1.,  2.,  3.],\n",
              "       [ 9., 11.,  6.,  2.,  1.,  2.,  4.],\n",
              "       [ 6., 22.,  4.,  1.,  1.,  1.,  2.],\n",
              "       [ 7.,  2., 11.,  1.,  1.,  1.,  4.],\n",
              "       [ 2., 11.,  1.,  1.,  2.,  1.,  0.],\n",
              "       [ 4.,  2., 11.,  1.,  2.,  2.,  0.],\n",
              "       [ 2.,  6., 18.,  2.,  2.,  2.,  1.]])"
            ]
          },
          "metadata": {},
          "execution_count": 12
        }
      ]
    },
    {
      "cell_type": "code",
      "source": [
        "X = X_tot[:,:-1]\n",
        "y = X_tot[:,-1]\n",
        "print(f\"X:{X.shape}, y:{y.shape}\")"
      ],
      "metadata": {
        "id": "2SpAPvgeWAKe",
        "colab": {
          "base_uri": "https://localhost:8080/"
        },
        "outputId": "0d86b69a-20e7-4b56-9d02-ccd18540b7c1"
      },
      "execution_count": 13,
      "outputs": [
        {
          "output_type": "stream",
          "name": "stdout",
          "text": [
            "X:(15, 6), y:(15,)\n"
          ]
        }
      ]
    },
    {
      "cell_type": "code",
      "source": [
        "X_train, X_test, y_train, y_test = train_test_split(X, y, test_size=0.2, random_state=42)"
      ],
      "metadata": {
        "id": "doNXYVGCWGCb"
      },
      "execution_count": 14,
      "outputs": []
    },
    {
      "cell_type": "code",
      "source": [
        "print(f\"X_train: {X_train.shape},\\n\\\n",
        "X_test: {X_test.shape}, \\n\\\n",
        "y_train: {y_train.shape}, \\n\\\n",
        "y_test: {y_test.shape}\")"
      ],
      "metadata": {
        "id": "ATIQ9pAwWMcw",
        "colab": {
          "base_uri": "https://localhost:8080/"
        },
        "outputId": "534933eb-db54-44b2-a0e6-c9a916d5c4f1"
      },
      "execution_count": 15,
      "outputs": [
        {
          "output_type": "stream",
          "name": "stdout",
          "text": [
            "X_train: (12, 6),\n",
            "X_test: (3, 6), \n",
            "y_train: (12,), \n",
            "y_test: (3,)\n"
          ]
        }
      ]
    },
    {
      "cell_type": "markdown",
      "source": [
        "###Gradient Boosting Classifier"
      ],
      "metadata": {
        "id": "ZoEZtXOaWTFF"
      }
    },
    {
      "cell_type": "code",
      "source": [
        "gbc = GradientBoostingClassifier()\n",
        "gbc.fit(X_train, y_train)\n",
        "print(f\"Train:{gbc.score(X_train, y_train)}, \\n\\\n",
        "Test:{gbc.score(X_test, y_test)}\")"
      ],
      "metadata": {
        "id": "1Qui_s0_WU5y",
        "colab": {
          "base_uri": "https://localhost:8080/"
        },
        "outputId": "a6396286-5ab4-4243-ed96-9f78e7ef9bf1"
      },
      "execution_count": 25,
      "outputs": [
        {
          "output_type": "stream",
          "name": "stdout",
          "text": [
            "Train:1.0, \n",
            "Test:0.0\n"
          ]
        }
      ]
    },
    {
      "cell_type": "markdown",
      "source": [
        "#optimize dct "
      ],
      "metadata": {
        "id": "r6cCjE2LWkCr"
      }
    },
    {
      "cell_type": "code",
      "source": [
        "paramsForGBC = {\"n_estimators\":[200, 250, 300],\n",
        "                \"max_depth\":[2, 3, 1, 2],\n",
        "                \"learning_rate\":[0.001, 0.01, 0.1]}"
      ],
      "metadata": {
        "id": "Wd4ad-YORxLO"
      },
      "execution_count": 23,
      "outputs": []
    },
    {
      "cell_type": "code",
      "source": [
        "gbc = GradientBoostingClassifier()"
      ],
      "metadata": {
        "id": "pYwZTKJ_R1E8"
      },
      "execution_count": 20,
      "outputs": []
    },
    {
      "cell_type": "code",
      "source": [
        "gsGBC = GridSearchCV(gbc, paramsForGBC)"
      ],
      "metadata": {
        "id": "fNbnEcWrR3w3"
      },
      "execution_count": 21,
      "outputs": []
    },
    {
      "cell_type": "code",
      "source": [
        "gsGBC.best_params_"
      ],
      "metadata": {
        "id": "_NxEix3AR9Zj"
      },
      "execution_count": null,
      "outputs": []
    },
    {
      "cell_type": "code",
      "source": [
        "print(f\"Train:{gsGBC.score(X_train, y_train)}, \\n\\\n",
        "Test:{gsGBC.score(X_test, y_test)}\")"
      ],
      "metadata": {
        "id": "Lj2QC45mSA1M"
      },
      "execution_count": null,
      "outputs": []
    },
    {
      "cell_type": "markdown",
      "source": [
        "###SVC"
      ],
      "metadata": {
        "id": "Fl-hwCv-WqnT"
      }
    },
    {
      "cell_type": "code",
      "source": [
        "from sklearn.svm import SVC\n",
        "svc = SVC()\n",
        "svc.fit(X_train, y_train)\n",
        "print(f\"Train:{svc.score(X_train, y_train)}, \\n\\\n",
        "Test:{svc.score(X_test, y_test)}\")"
      ],
      "metadata": {
        "id": "wsCye86sWpGo",
        "colab": {
          "base_uri": "https://localhost:8080/"
        },
        "outputId": "48d4ac40-0d1c-4c75-887c-fe628c03b254"
      },
      "execution_count": 26,
      "outputs": [
        {
          "output_type": "stream",
          "name": "stdout",
          "text": [
            "Train:0.5833333333333334, \n",
            "Test:0.0\n"
          ]
        }
      ]
    },
    {
      "cell_type": "markdown",
      "source": [
        "#Optimize  SVC"
      ],
      "metadata": {
        "id": "kTi2ab9MW65t"
      }
    },
    {
      "cell_type": "markdown",
      "source": [
        "###Neural Network"
      ],
      "metadata": {
        "id": "SsudodHMXASv"
      }
    },
    {
      "cell_type": "code",
      "source": [
        "from sklearn.neural_network import MLPClassifier\n",
        "mlp = MLPClassifier(hidden_layer_sizes=())\n",
        "mlp.fit(X_train, y_train)\n",
        "print(f\"Train:{mlp.score(X_train, y_train)}, \\n\\\n",
        "Test:{mlp.score(X_test, y_test)}\")"
      ],
      "metadata": {
        "id": "WpvFGcCsW-Km",
        "colab": {
          "base_uri": "https://localhost:8080/"
        },
        "outputId": "d661444a-b833-4cdf-d9e1-66b51e67d944"
      },
      "execution_count": 27,
      "outputs": [
        {
          "output_type": "stream",
          "name": "stdout",
          "text": [
            "Train:0.4166666666666667, \n",
            "Test:0.3333333333333333\n"
          ]
        },
        {
          "output_type": "stream",
          "name": "stderr",
          "text": [
            "/usr/local/lib/python3.7/dist-packages/sklearn/neural_network/_multilayer_perceptron.py:696: ConvergenceWarning: Stochastic Optimizer: Maximum iterations (200) reached and the optimization hasn't converged yet.\n",
            "  ConvergenceWarning,\n"
          ]
        }
      ]
    },
    {
      "cell_type": "markdown",
      "source": [
        "Optimized Neural Network"
      ],
      "metadata": {
        "id": "7GY26PUCXYgs"
      }
    }
  ]
}